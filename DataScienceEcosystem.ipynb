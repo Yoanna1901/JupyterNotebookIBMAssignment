{
  "metadata": {
    "kernelspec": {
      "name": "python",
      "display_name": "Python (Pyodide)",
      "language": "python"
    },
    "language_info": {
      "codemirror_mode": {
        "name": "python",
        "version": 3
      },
      "file_extension": ".py",
      "mimetype": "text/x-python",
      "name": "python",
      "nbconvert_exporter": "python",
      "pygments_lexer": "ipython3",
      "version": "3.8"
    }
  },
  "nbformat_minor": 5,
  "nbformat": 4,
  "cells": [
    {
      "id": "b00e5aa7-b83e-43e3-8add-40415d522a77",
      "cell_type": "markdown",
      "source": "# Data Science Tools and Ecosystem",
      "metadata": {}
    },
    {
      "id": "018cb9ea-9619-4923-b254-247651b6e61d",
      "cell_type": "markdown",
      "source": "#### In this notebook, Data Science Tools and Ecosystem are summarized.",
      "metadata": {}
    },
    {
      "id": "8906d3a3-1bd2-4f26-95a1-4487b23cb9ab",
      "cell_type": "markdown",
      "source": "__Objectives:__\n- List popular languages for Data Science\n- List the commonly used libraries used by Data Scientists\n- Evaluate arithmetic expressions in Python",
      "metadata": {}
    },
    {
      "id": "50a0fa5c-2ce4-46cd-81b7-dff8377e32bc",
      "cell_type": "markdown",
      "source": "Some of the popular languages that Data Scientists use are: \n1. Python\n2. R\n3. Java\n4. Julia\n",
      "metadata": {}
    },
    {
      "id": "9c305b8e-f1db-4be0-90bb-90b0d246ef6b",
      "cell_type": "markdown",
      "source": "Some of the commonly used libraries used by Data Scientists include:\n1. NumPy\n2. Pandas\n3. Matplotlib ",
      "metadata": {}
    },
    {
      "id": "c073ddef-5f40-49b5-87da-800681bdaab7",
      "cell_type": "markdown",
      "source": "| Data Science Tools: | \n| --- |\n|Jupyter Notebook | \n| RStudio \n| Visual Studio Code |",
      "metadata": {}
    },
    {
      "id": "67008618-73e4-4d38-b39b-ff9b2dd81635",
      "cell_type": "markdown",
      "source": "### Below are a few examples of evaluating arithmetic expressions in Python",
      "metadata": {}
    },
    {
      "id": "325e0544-85f2-43e1-ad33-d021e303ba2d",
      "cell_type": "markdown",
      "source": "This a simple arithmetic expression to mutiply then add integers: ",
      "metadata": {}
    },
    {
      "id": "80c62608-0974-48a8-843c-e5dc71141cc4",
      "cell_type": "code",
      "source": "(3*4)+5",
      "metadata": {
        "trusted": true
      },
      "outputs": [
        {
          "execution_count": 7,
          "output_type": "execute_result",
          "data": {
            "text/plain": "17"
          },
          "metadata": {}
        }
      ],
      "execution_count": 7
    },
    {
      "id": "ce94b635-3a70-4176-9df7-44c0f40a9196",
      "cell_type": "markdown",
      "source": "This will convert 200 minutes to hours by diving by 60:",
      "metadata": {}
    },
    {
      "id": "630a1aac-668d-48b5-92c4-dcd7d60a21fe",
      "cell_type": "code",
      "source": "maths = 200/60\nround(maths, 2)",
      "metadata": {
        "trusted": true
      },
      "outputs": [
        {
          "execution_count": 16,
          "output_type": "execute_result",
          "data": {
            "text/plain": "3.33"
          },
          "metadata": {}
        }
      ],
      "execution_count": 16
    },
    {
      "id": "83b0bea2-f97c-4b2e-9a59-1e1541f502a5",
      "cell_type": "markdown",
      "source": "## Author \nYoanna Belyova",
      "metadata": {}
    }
  ]
}